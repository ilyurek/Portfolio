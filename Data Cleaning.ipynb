{
 "cells": [
  {
   "cell_type": "markdown",
   "id": "7b39939d",
   "metadata": {},
   "source": [
    "# # Project 3: Data Cleaning - Tidy up messy Datasets (Movies Dataset)"
   ]
  },
  {
   "cell_type": "markdown",
   "id": "470d3524",
   "metadata": {},
   "source": [
    "### First Glance"
   ]
  },
  {
   "cell_type": "code",
   "execution_count": 1,
   "id": "e0b9d896",
   "metadata": {},
   "outputs": [],
   "source": [
    "import pandas as pd\n",
    "pd.options.display.max_columns = 30"
   ]
  },
  {
   "cell_type": "markdown",
   "id": "6d6f96e9",
   "metadata": {},
   "source": [
    "Use the low_memory parameter to read the data since the data consists of mixed types."
   ]
  },
  {
   "cell_type": "code",
   "execution_count": 2,
   "id": "369f186e",
   "metadata": {},
   "outputs": [],
   "source": [
    "df = pd.read_csv(\"movies_metadata.csv\",low_memory=False)"
   ]
  },
  {
   "cell_type": "code",
   "execution_count": 3,
   "id": "711149c0",
   "metadata": {},
   "outputs": [
    {
     "name": "stdout",
     "output_type": "stream",
     "text": [
      "<class 'pandas.core.frame.DataFrame'>\n",
      "RangeIndex: 45466 entries, 0 to 45465\n",
      "Data columns (total 24 columns):\n",
      " #   Column                 Non-Null Count  Dtype  \n",
      "---  ------                 --------------  -----  \n",
      " 0   adult                  45466 non-null  object \n",
      " 1   belongs_to_collection  4494 non-null   object \n",
      " 2   budget                 45466 non-null  object \n",
      " 3   genres                 45466 non-null  object \n",
      " 4   homepage               7782 non-null   object \n",
      " 5   id                     45466 non-null  object \n",
      " 6   imdb_id                45449 non-null  object \n",
      " 7   original_language      45455 non-null  object \n",
      " 8   original_title         45466 non-null  object \n",
      " 9   overview               44512 non-null  object \n",
      " 10  popularity             45461 non-null  object \n",
      " 11  poster_path            45080 non-null  object \n",
      " 12  production_companies   45463 non-null  object \n",
      " 13  production_countries   45463 non-null  object \n",
      " 14  release_date           45379 non-null  object \n",
      " 15  revenue                45460 non-null  float64\n",
      " 16  runtime                45203 non-null  float64\n",
      " 17  spoken_languages       45460 non-null  object \n",
      " 18  status                 45379 non-null  object \n",
      " 19  tagline                20412 non-null  object \n",
      " 20  title                  45460 non-null  object \n",
      " 21  video                  45460 non-null  object \n",
      " 22  vote_average           45460 non-null  float64\n",
      " 23  vote_count             45460 non-null  float64\n",
      "dtypes: float64(4), object(20)\n",
      "memory usage: 8.3+ MB\n"
     ]
    }
   ],
   "source": [
    "df.info()"
   ]
  },
  {
   "cell_type": "markdown",
   "id": "f1f5b903",
   "metadata": {},
   "source": [
    "Here, we can see that in four columns, we have float data types and, 20 columns text or mixed data types. For example, in the budget column we have mixed data types. This should be a numerically column. Another one can be release_data. This should be a date time column. In addition, we can see that in some columns, we have missing values. For instance, in the homepage column, we have only have 7782 non missing values. Let's investigate some nested columns to understand the data."
   ]
  },
  {
   "cell_type": "code",
   "execution_count": 4,
   "id": "c9142dc1",
   "metadata": {},
   "outputs": [
    {
     "data": {
      "text/plain": [
       "\"[{'id': 16, 'name': 'Animation'}, {'id': 35, 'name': 'Comedy'}, {'id': 10751, 'name': 'Family'}]\""
      ]
     },
     "execution_count": 4,
     "metadata": {},
     "output_type": "execute_result"
    }
   ],
   "source": [
    "df.genres[0]"
   ]
  },
  {
   "cell_type": "markdown",
   "id": "adcd1a41",
   "metadata": {},
   "source": [
    "This column is stringified JSON column not a list."
   ]
  },
  {
   "cell_type": "code",
   "execution_count": 5,
   "id": "e5917d26",
   "metadata": {},
   "outputs": [
    {
     "data": {
      "text/plain": [
       "\"{'id': 10194, 'name': 'Toy Story Collection', 'poster_path': '/7G9915LfUQ2lVfwMEEhDsn3kT4B.jpg', 'backdrop_path': '/9FBwqcd9IRruEDUrTdcaafOMKUq.jpg'}\""
      ]
     },
     "execution_count": 5,
     "metadata": {},
     "output_type": "execute_result"
    }
   ],
   "source": [
    "df.belongs_to_collection[0]"
   ]
  },
  {
   "cell_type": "markdown",
   "id": "6a94706f",
   "metadata": {},
   "source": [
    "This column is also a part of a dictionary. We should flatten and clean these columns."
   ]
  },
  {
   "cell_type": "markdown",
   "id": "b130b058",
   "metadata": {},
   "source": [
    "### Dropping Irrevelant Columns"
   ]
  },
  {
   "cell_type": "markdown",
   "id": "8dee2c65",
   "metadata": {},
   "source": [
    "We can drop some columns that we likely don't need for the explotary analysis and data presentation"
   ]
  },
  {
   "cell_type": "code",
   "execution_count": 6,
   "id": "0e8f2a50",
   "metadata": {},
   "outputs": [],
   "source": [
    "df.drop(columns = ['adult'], inplace = True)"
   ]
  },
  {
   "cell_type": "code",
   "execution_count": 7,
   "id": "d075549e",
   "metadata": {},
   "outputs": [],
   "source": [
    "df.drop(columns = ['imdb_id'], inplace = True)"
   ]
  },
  {
   "cell_type": "code",
   "execution_count": 8,
   "id": "d04ff8d4",
   "metadata": {},
   "outputs": [],
   "source": [
    "df.drop(columns = ['original_title'], inplace = True)"
   ]
  },
  {
   "cell_type": "code",
   "execution_count": 9,
   "id": "1ae26cc4",
   "metadata": {},
   "outputs": [],
   "source": [
    "df.drop(columns = ['video'], inplace= True)"
   ]
  },
  {
   "cell_type": "code",
   "execution_count": 10,
   "id": "a14ecbfc",
   "metadata": {},
   "outputs": [],
   "source": [
    "df.drop(columns = ['homepage'], inplace= True)"
   ]
  },
  {
   "cell_type": "markdown",
   "id": "77ec087a",
   "metadata": {},
   "source": [
    "### Let's handle stringified JSON columns "
   ]
  },
  {
   "cell_type": "markdown",
   "id": "c144a715",
   "metadata": {},
   "source": [
    "Let's load the needful modules. In Python, the ast module stands for \"Abstract Syntax Tree.\""
   ]
  },
  {
   "cell_type": "code",
   "execution_count": 11,
   "id": "8f83cca0",
   "metadata": {},
   "outputs": [],
   "source": [
    "import json\n",
    "import ast"
   ]
  },
  {
   "cell_type": "markdown",
   "id": "fbf4c4f7",
   "metadata": {},
   "source": [
    "For the automation, we determine all the stringified JSON columns"
   ]
  },
  {
   "cell_type": "code",
   "execution_count": 12,
   "id": "3e1826e2",
   "metadata": {},
   "outputs": [],
   "source": [
    "json_col = [\"belongs_to_collection\", \"genres\", \"production_countries\", \n",
    "            \"production_companies\", \"spoken_languages\"]"
   ]
  },
  {
   "cell_type": "markdown",
   "id": "78e20645",
   "metadata": {},
   "source": [
    "Let's look at one of the JSON columns."
   ]
  },
  {
   "cell_type": "code",
   "execution_count": 13,
   "id": "4339c513",
   "metadata": {},
   "outputs": [
    {
     "data": {
      "text/plain": [
       "\"{'id': 10194, 'name': 'Toy Story Collection', 'poster_path': '/7G9915LfUQ2lVfwMEEhDsn3kT4B.jpg', 'backdrop_path': '/9FBwqcd9IRruEDUrTdcaafOMKUq.jpg'}\""
      ]
     },
     "execution_count": 13,
     "metadata": {},
     "output_type": "execute_result"
    }
   ],
   "source": [
    "df.belongs_to_collection[0]"
   ]
  },
  {
   "cell_type": "markdown",
   "id": "23fe392f",
   "metadata": {},
   "source": [
    "In the first way, we replace single quotation marks with double quatation marks so that the json.loads() function works properly. This method is used to parse JSON formated string into a Python data structure."
   ]
  },
  {
   "cell_type": "code",
   "execution_count": 14,
   "id": "c92d595f",
   "metadata": {},
   "outputs": [
    {
     "data": {
      "text/plain": [
       "[{'id': 16, 'name': 'Animation'},\n",
       " {'id': 35, 'name': 'Comedy'},\n",
       " {'id': 10751, 'name': 'Family'}]"
      ]
     },
     "execution_count": 14,
     "metadata": {},
     "output_type": "execute_result"
    }
   ],
   "source": [
    "df.genres.apply(lambda x: json.loads(x.replace(\"'\", '\"')))[0]"
   ]
  },
  {
   "cell_type": "markdown",
   "id": "54af5918",
   "metadata": {},
   "source": [
    "In the second way, we can use literal_eval method in the ast library. This function evaluates an expression node or a string consisting of a Python literal or container display."
   ]
  },
  {
   "cell_type": "code",
   "execution_count": 15,
   "id": "044f1afb",
   "metadata": {},
   "outputs": [
    {
     "data": {
      "text/plain": [
       "[{'id': 16, 'name': 'Animation'},\n",
       " {'id': 35, 'name': 'Comedy'},\n",
       " {'id': 10751, 'name': 'Family'}]"
      ]
     },
     "execution_count": 15,
     "metadata": {},
     "output_type": "execute_result"
    }
   ],
   "source": [
    "df.genres.apply(ast.literal_eval)[0]"
   ]
  },
  {
   "cell_type": "markdown",
   "id": "ccb153c9",
   "metadata": {},
   "source": [
    "Then, we can apply this method to all stringified JSON columns. However, stringified JSON objects does not consist of only strings. If we try to apply this method to the all JSON columns (in the following expression), we can not achive to desired results. For this reason, we should apply alternative methods by using numpy library."
   ]
  },
  {
   "cell_type": "code",
   "execution_count": 16,
   "id": "e20aa1c2",
   "metadata": {},
   "outputs": [],
   "source": [
    "#df.loc[:, json_col].apply(ast.literal_eval, axis = 0)"
   ]
  },
  {
   "cell_type": "code",
   "execution_count": 17,
   "id": "1df880c3",
   "metadata": {},
   "outputs": [],
   "source": [
    "import numpy as np"
   ]
  },
  {
   "cell_type": "markdown",
   "id": "8150c94f",
   "metadata": {},
   "source": [
    "Let's check one of the columns of the data frame if it consists of strings or not. Then, we can apply the literal_eval function to transform the stringified JSON into a Python data structure. For the belongs_to_collection column, we can see that it is transformed to the dictionary type object."
   ]
  },
  {
   "cell_type": "code",
   "execution_count": 18,
   "id": "08fbf7dc",
   "metadata": {},
   "outputs": [
    {
     "data": {
      "text/plain": [
       "0         True\n",
       "1        False\n",
       "2         True\n",
       "3        False\n",
       "4         True\n",
       "         ...  \n",
       "45461    False\n",
       "45462    False\n",
       "45463    False\n",
       "45464    False\n",
       "45465    False\n",
       "Name: belongs_to_collection, Length: 45466, dtype: bool"
      ]
     },
     "execution_count": 18,
     "metadata": {},
     "output_type": "execute_result"
    }
   ],
   "source": [
    "df.belongs_to_collection.apply(lambda x: isinstance(x, str))"
   ]
  },
  {
   "cell_type": "code",
   "execution_count": 19,
   "id": "6abd0f9b",
   "metadata": {},
   "outputs": [],
   "source": [
    "df.belongs_to_collection = df.belongs_to_collection.apply(lambda x: ast.literal_eval(x) if isinstance(x, str) \n",
    "                                                          else np.nan)"
   ]
  },
  {
   "cell_type": "code",
   "execution_count": 20,
   "id": "3b8300e1",
   "metadata": {},
   "outputs": [
    {
     "data": {
      "text/plain": [
       "{'id': 10194,\n",
       " 'name': 'Toy Story Collection',\n",
       " 'poster_path': '/7G9915LfUQ2lVfwMEEhDsn3kT4B.jpg',\n",
       " 'backdrop_path': '/9FBwqcd9IRruEDUrTdcaafOMKUq.jpg'}"
      ]
     },
     "execution_count": 20,
     "metadata": {},
     "output_type": "execute_result"
    }
   ],
   "source": [
    "df.belongs_to_collection [0]"
   ]
  },
  {
   "cell_type": "markdown",
   "id": "027d78bb",
   "metadata": {},
   "source": [
    "Lets's apply this method to the other JSON columns."
   ]
  },
  {
   "cell_type": "code",
   "execution_count": 21,
   "id": "060d2022",
   "metadata": {},
   "outputs": [],
   "source": [
    "df.spoken_languages = df.spoken_languages.apply(lambda x: ast.literal_eval(x) \n",
    "                                                if isinstance(x, str) else np.nan)"
   ]
  },
  {
   "cell_type": "code",
   "execution_count": 22,
   "id": "df7a7312",
   "metadata": {},
   "outputs": [],
   "source": [
    "df.production_countries = df.production_countries.apply(lambda x: ast.literal_eval(x) \n",
    "                                                        if isinstance(x, str) else np.nan)"
   ]
  },
  {
   "cell_type": "code",
   "execution_count": 23,
   "id": "40c481c9",
   "metadata": {},
   "outputs": [],
   "source": [
    "df.production_companies = df.production_companies.apply(lambda x: ast.literal_eval(x) \n",
    "                                                        if isinstance(x, str) else np.nan)"
   ]
  },
  {
   "cell_type": "code",
   "execution_count": 24,
   "id": "19f674cc",
   "metadata": {},
   "outputs": [],
   "source": [
    "df.genres = df.genres.apply(lambda x: ast.literal_eval(x) if isinstance(x, str) else np.nan)"
   ]
  },
  {
   "cell_type": "markdown",
   "id": "a732d213",
   "metadata": {},
   "source": [
    "### Let's Flatten the Nested Columns"
   ]
  },
  {
   "cell_type": "markdown",
   "id": "dc34e6f5",
   "metadata": {},
   "source": [
    "We should extract the selected data from the lists or dictionaries. For instance, we can extract the name of the collection that the movie belongs to."
   ]
  },
  {
   "cell_type": "code",
   "execution_count": 25,
   "id": "d50b649b",
   "metadata": {},
   "outputs": [],
   "source": [
    "df.belongs_to_collection = df.belongs_to_collection.apply(lambda x: x['name'] if isinstance(x, dict) else np.nan) "
   ]
  },
  {
   "cell_type": "code",
   "execution_count": 26,
   "id": "cb5f16db",
   "metadata": {},
   "outputs": [
    {
     "data": {
      "text/plain": [
       "NaN                                       40975\n",
       "The Bowery Boys                              29\n",
       "Totò Collection                              27\n",
       "James Bond Collection                        26\n",
       "Zatôichi: The Blind Swordsman                26\n",
       "The Carry On Collection                      25\n",
       "Pokémon Collection                           22\n",
       "Charlie Chan (Sidney Toler) Collection       21\n",
       "Godzilla (Showa) Collection                  16\n",
       "Uuno Turhapuro                               15\n",
       "Dragon Ball Z (Movie) Collection             15\n",
       "Charlie Chan (Warner Oland) Collection       15\n",
       "The Land Before Time Collection              14\n",
       "Monster High Collection                      14\n",
       "Sharpe Collection                            13\n",
       "George Carlin Comedy Collection              13\n",
       "Johan Falk GSI Collection                    12\n",
       "Sherlock Holmes (1939 series)                12\n",
       "Friday the 13th Collection                   12\n",
       "The Amityville Horror Collection             12\n",
       "Name: belongs_to_collection, dtype: int64"
      ]
     },
     "execution_count": 26,
     "metadata": {},
     "output_type": "execute_result"
    }
   ],
   "source": [
    "df.belongs_to_collection.value_counts(dropna = False).head(20)"
   ]
  },
  {
   "cell_type": "markdown",
   "id": "3145b282",
   "metadata": {},
   "source": [
    "We can see that 40975 movie does not belong to a collection and, the largest collection belongs to The Bowery Boys."
   ]
  },
  {
   "cell_type": "markdown",
   "id": "7b575168",
   "metadata": {},
   "source": [
    "Let's extract movie genres from the genres column and add separators to the genres in which the movies have one or more genres."
   ]
  },
  {
   "cell_type": "code",
   "execution_count": 27,
   "id": "2ce0e9a2",
   "metadata": {},
   "outputs": [],
   "source": [
    "df.genres = df.genres.apply(lambda x: \"|\".join(i['name'] for i in x))"
   ]
  },
  {
   "cell_type": "code",
   "execution_count": 28,
   "id": "eade5945",
   "metadata": {},
   "outputs": [
    {
     "data": {
      "text/plain": [
       "Drama                   5000\n",
       "Comedy                  3621\n",
       "Documentary             2723\n",
       "                        2442\n",
       "Drama|Romance           1301\n",
       "Comedy|Drama            1135\n",
       "Horror                   974\n",
       "Comedy|Romance           930\n",
       "Comedy|Drama|Romance     593\n",
       "Drama|Comedy             532\n",
       "Horror|Thriller          528\n",
       "Drama|Thriller           497\n",
       "Thriller                 465\n",
       "Crime|Drama              430\n",
       "Romance|Drama            343\n",
       "Western                  318\n",
       "Action|Thriller          301\n",
       "Drama|Foreign            283\n",
       "Action                   278\n",
       "Drama|History            267\n",
       "Name: genres, dtype: int64"
      ]
     },
     "execution_count": 28,
     "metadata": {},
     "output_type": "execute_result"
    }
   ],
   "source": [
    "df.genres.value_counts(dropna = False).head(20)"
   ]
  },
  {
   "cell_type": "markdown",
   "id": "7360bb7c",
   "metadata": {},
   "source": [
    "We should assign the missing values as na."
   ]
  },
  {
   "cell_type": "code",
   "execution_count": 29,
   "id": "5f438431",
   "metadata": {},
   "outputs": [],
   "source": [
    "df.genres.replace(\"\", np.nan, inplace = True)"
   ]
  },
  {
   "cell_type": "markdown",
   "id": "54625797",
   "metadata": {},
   "source": [
    "Let's apply similar process to the other columns."
   ]
  },
  {
   "cell_type": "code",
   "execution_count": 30,
   "id": "58ff898b",
   "metadata": {},
   "outputs": [],
   "source": [
    "df.spoken_languages = df.spoken_languages.apply(lambda x: \"|\".join(i['name'] for i in x) \n",
    "                                                if isinstance(x, list) else np.nan) "
   ]
  },
  {
   "cell_type": "code",
   "execution_count": 31,
   "id": "cfb30318",
   "metadata": {},
   "outputs": [
    {
     "data": {
      "text/plain": [
       "English             22395\n",
       "                     3952\n",
       "Français             1853\n",
       "日本語                  1289\n",
       "Italiano             1218\n",
       "Español               902\n",
       "Pусский               807\n",
       "Deutsch               762\n",
       "English|Français      681\n",
       "English|Español       572\n",
       "हिन्दी                481\n",
       "English|Deutsch       462\n",
       "한국어/조선말               425\n",
       "普通话                   347\n",
       "English|Italiano      326\n",
       "svenska               311\n",
       "No Language           303\n",
       "suomi                 275\n",
       "Português             275\n",
       "Polski                213\n",
       "Name: spoken_languages, dtype: int64"
      ]
     },
     "execution_count": 31,
     "metadata": {},
     "output_type": "execute_result"
    }
   ],
   "source": [
    "df.spoken_languages.value_counts(dropna = False).head(20)"
   ]
  },
  {
   "cell_type": "code",
   "execution_count": 32,
   "id": "a8ba7bf9",
   "metadata": {},
   "outputs": [],
   "source": [
    "df.spoken_languages.replace(\"\", np.nan, inplace = True)"
   ]
  },
  {
   "cell_type": "code",
   "execution_count": 33,
   "id": "ba264488",
   "metadata": {},
   "outputs": [],
   "source": [
    "df.production_countries = df.production_countries.apply(lambda x: \"|\".join(i['name'] for i in x) \n",
    "                                                        if isinstance(x, list) else np.nan)"
   ]
  },
  {
   "cell_type": "code",
   "execution_count": 34,
   "id": "30256fe1",
   "metadata": {},
   "outputs": [
    {
     "data": {
      "text/plain": [
       "United States of America                   17851\n",
       "                                            6282\n",
       "United Kingdom                              2238\n",
       "France                                      1654\n",
       "Japan                                       1356\n",
       "Italy                                       1030\n",
       "Canada                                       840\n",
       "Germany                                      749\n",
       "India                                        735\n",
       "Russia                                       735\n",
       "United Kingdom|United States of America      569\n",
       "South Korea                                  432\n",
       "Spain                                        398\n",
       "Hong Kong                                    365\n",
       "Canada|United States of America              365\n",
       "Australia                                    336\n",
       "Sweden                                       332\n",
       "Finland                                      271\n",
       "France|Italy                                 235\n",
       "Germany|United States of America             214\n",
       "Name: production_countries, dtype: int64"
      ]
     },
     "execution_count": 34,
     "metadata": {},
     "output_type": "execute_result"
    }
   ],
   "source": [
    "df.production_countries.value_counts(dropna = False).head(20)"
   ]
  },
  {
   "cell_type": "code",
   "execution_count": 35,
   "id": "b12de259",
   "metadata": {},
   "outputs": [],
   "source": [
    "df.production_countries.replace(\"\", np.nan, inplace = True)"
   ]
  },
  {
   "cell_type": "code",
   "execution_count": 36,
   "id": "f6655773",
   "metadata": {},
   "outputs": [],
   "source": [
    "df.production_companies = df.production_companies.apply(lambda x: \"|\".join(i['name'] for i in x) if isinstance(x, list) else np.nan) "
   ]
  },
  {
   "cell_type": "code",
   "execution_count": 37,
   "id": "557b49f0",
   "metadata": {},
   "outputs": [
    {
     "data": {
      "text/plain": [
       "                                          11875\n",
       "Metro-Goldwyn-Mayer (MGM)                   742\n",
       "Warner Bros.                                540\n",
       "Paramount Pictures                          505\n",
       "Twentieth Century Fox Film Corporation      439\n",
       "Universal Pictures                          320\n",
       "RKO Radio Pictures                          247\n",
       "Columbia Pictures Corporation               207\n",
       "Columbia Pictures                           146\n",
       "Mosfilm                                     145\n",
       "Walt Disney Pictures                         85\n",
       "Universal International Pictures (UI)        82\n",
       "New Line Cinema                              75\n",
       "Walt Disney Productions                      75\n",
       "Shaw Brothers                                71\n",
       "Touchstone Pictures                          70\n",
       "Toho Company                                 65\n",
       "TriStar Pictures                             62\n",
       "Orion Pictures                               61\n",
       "Hammer Film Productions                      60\n",
       "Name: production_companies, dtype: int64"
      ]
     },
     "execution_count": 37,
     "metadata": {},
     "output_type": "execute_result"
    }
   ],
   "source": [
    "df.production_companies.value_counts(dropna = False).head(20)"
   ]
  },
  {
   "cell_type": "code",
   "execution_count": 38,
   "id": "c3aee8e1",
   "metadata": {},
   "outputs": [],
   "source": [
    "df.production_companies.replace(\"\", np.nan, inplace = True)"
   ]
  },
  {
   "cell_type": "markdown",
   "id": "dd3b5d97",
   "metadata": {},
   "source": [
    "Do not forget that the data has missing values does not imply that the data is not clean."
   ]
  },
  {
   "cell_type": "markdown",
   "id": "7245f409",
   "metadata": {},
   "source": [
    "### Let's Clean the Numerical Columns"
   ]
  },
  {
   "cell_type": "markdown",
   "id": "086a8320",
   "metadata": {},
   "source": [
    "df.budget.astype(\"float\") does not work here. If you try to apply this function to the budget column, you will see there is a specific string that belongs to one data point that is not convertible to float. There is more convenient way to do this transformation."
   ]
  },
  {
   "cell_type": "code",
   "execution_count": 39,
   "id": "e53d46e1",
   "metadata": {},
   "outputs": [],
   "source": [
    "df.budget = pd.to_numeric(df.budget,errors = \"coerce\") # invalid parcing will be set as NaN"
   ]
  },
  {
   "cell_type": "code",
   "execution_count": 40,
   "id": "83eee65e",
   "metadata": {},
   "outputs": [
    {
     "data": {
      "text/plain": [
       "0.0            36573\n",
       "5000000.0        286\n",
       "10000000.0       259\n",
       "20000000.0       243\n",
       "2000000.0        242\n",
       "               ...  \n",
       "270000000.0        1\n",
       "923.0              1\n",
       "72500000.0         1\n",
       "2160000.0          1\n",
       "1254040.0          1\n",
       "Name: budget, Length: 1223, dtype: int64"
      ]
     },
     "execution_count": 40,
     "metadata": {},
     "output_type": "execute_result"
    }
   ],
   "source": [
    "df.budget.value_counts()"
   ]
  },
  {
   "cell_type": "markdown",
   "id": "dcce9f13",
   "metadata": {},
   "source": [
    "As we can see there 36573 movies have a budget with 0. This is unrealistic and probably a missing value. We should change 0's as NaN."
   ]
  },
  {
   "cell_type": "code",
   "execution_count": 41,
   "id": "759544bf",
   "metadata": {},
   "outputs": [],
   "source": [
    "df.budget = df.budget.replace(0, np.nan)"
   ]
  },
  {
   "cell_type": "markdown",
   "id": "d1080d9a",
   "metadata": {},
   "source": [
    "To increase readability, we can divide every budget to one million and, apply same process to revenue column. Lastly, we can change the columns names."
   ]
  },
  {
   "cell_type": "code",
   "execution_count": 42,
   "id": "3575d417",
   "metadata": {},
   "outputs": [],
   "source": [
    "df.budget = df.budget.div(1000000)"
   ]
  },
  {
   "cell_type": "code",
   "execution_count": 43,
   "id": "6fe59dea",
   "metadata": {},
   "outputs": [],
   "source": [
    "df.revenue = df.revenue.replace(0, np.nan)\n",
    "df.revenue = df.revenue.div(1000000)"
   ]
  },
  {
   "cell_type": "code",
   "execution_count": 44,
   "id": "3ad42c7c",
   "metadata": {},
   "outputs": [],
   "source": [
    "df.rename(columns = {\"revenue\":\"revenue_musd\", \"budget\":\"budget_musd\"}, inplace = True)"
   ]
  },
  {
   "cell_type": "markdown",
   "id": "9006b058",
   "metadata": {},
   "source": [
    "We should transform 0's into nan in the runtime column."
   ]
  },
  {
   "cell_type": "code",
   "execution_count": 46,
   "id": "f3f83082",
   "metadata": {},
   "outputs": [],
   "source": [
    "df.runtime = df.runtime.replace(0, np.nan)"
   ]
  },
  {
   "cell_type": "markdown",
   "id": "1963e1e0",
   "metadata": {},
   "source": [
    "Id and popularity columns should be numeric."
   ]
  },
  {
   "cell_type": "code",
   "execution_count": 47,
   "id": "d3ec4584",
   "metadata": {},
   "outputs": [],
   "source": [
    "df.id = pd.to_numeric(df.id, errors = \"coerce\")"
   ]
  },
  {
   "cell_type": "code",
   "execution_count": 48,
   "id": "78fba6d8",
   "metadata": {},
   "outputs": [],
   "source": [
    "df.popularity = pd.to_numeric(df.popularity, errors='coerce')"
   ]
  },
  {
   "cell_type": "markdown",
   "id": "317cd4df",
   "metadata": {},
   "source": [
    "For movies where we do not have any vote rating, we do not have average rating."
   ]
  },
  {
   "cell_type": "code",
   "execution_count": 52,
   "id": "e0eda7c8",
   "metadata": {},
   "outputs": [],
   "source": [
    "df.loc[df.vote_count == 0, \"vote_average\"] = np.nan"
   ]
  },
  {
   "cell_type": "markdown",
   "id": "1327b2d7",
   "metadata": {},
   "source": [
    "### Let's Celan DateTime Columns"
   ]
  },
  {
   "cell_type": "markdown",
   "id": "699295de",
   "metadata": {},
   "source": [
    "Let's look at some elements of the release_date column."
   ]
  },
  {
   "cell_type": "code",
   "execution_count": 53,
   "id": "f5636c76",
   "metadata": {},
   "outputs": [
    {
     "data": {
      "text/plain": [
       "0        1995-10-30\n",
       "1        1995-12-15\n",
       "2        1995-12-22\n",
       "3        1995-12-22\n",
       "4        1995-02-10\n",
       "            ...    \n",
       "45461           NaN\n",
       "45462    2011-11-17\n",
       "45463    2003-08-01\n",
       "45464    1917-10-21\n",
       "45465    2017-06-09\n",
       "Name: release_date, Length: 45466, dtype: object"
      ]
     },
     "execution_count": 53,
     "metadata": {},
     "output_type": "execute_result"
    }
   ],
   "source": [
    "df.release_date "
   ]
  },
  {
   "cell_type": "code",
   "execution_count": 54,
   "id": "f5258012",
   "metadata": {},
   "outputs": [],
   "source": [
    "df.release_date = pd.to_datetime(df.release_date, errors = \"coerce\") # coerce parameter for the missing values"
   ]
  },
  {
   "cell_type": "markdown",
   "id": "39dfc550",
   "metadata": {},
   "source": [
    "### Let's Clean Text/String Columns"
   ]
  },
  {
   "cell_type": "code",
   "execution_count": 55,
   "id": "bb51345b",
   "metadata": {},
   "outputs": [],
   "source": [
    "df.overview.replace(\"No overview found.\", np.nan, inplace = True)"
   ]
  },
  {
   "cell_type": "code",
   "execution_count": 56,
   "id": "b31948ea",
   "metadata": {},
   "outputs": [],
   "source": [
    "df.overview.replace(\"No Overview\", np.nan, inplace = True)"
   ]
  },
  {
   "cell_type": "code",
   "execution_count": 57,
   "id": "0aa7d2c7",
   "metadata": {},
   "outputs": [],
   "source": [
    "df.overview.replace(\"No movie overview available.\", np.nan, inplace = True)"
   ]
  },
  {
   "cell_type": "code",
   "execution_count": 58,
   "id": "a514b99f",
   "metadata": {},
   "outputs": [],
   "source": [
    "df.overview.replace(\" \", np.nan, inplace = True)"
   ]
  },
  {
   "cell_type": "code",
   "execution_count": 59,
   "id": "98f844f4",
   "metadata": {},
   "outputs": [],
   "source": [
    "df.overview.replace(\"No overview yet.\", np.nan, inplace = True)"
   ]
  },
  {
   "cell_type": "code",
   "execution_count": 60,
   "id": "5b127e73",
   "metadata": {},
   "outputs": [],
   "source": [
    "df.tagline.replace(\"-\", np.nan, inplace = True)"
   ]
  },
  {
   "cell_type": "markdown",
   "id": "75ec0160",
   "metadata": {},
   "source": [
    "### Let's Remove Duplicates"
   ]
  },
  {
   "cell_type": "markdown",
   "id": "2257f269",
   "metadata": {},
   "source": [
    "In the movies data set we have id's for the movies that should be unique for every movies."
   ]
  },
  {
   "cell_type": "code",
   "execution_count": 62,
   "id": "aaff6a11",
   "metadata": {},
   "outputs": [],
   "source": [
    "df.drop_duplicates(inplace = True)"
   ]
  },
  {
   "cell_type": "code",
   "execution_count": 64,
   "id": "ad09c6ce",
   "metadata": {},
   "outputs": [],
   "source": [
    "df.drop_duplicates(subset = \"id\", inplace = True)"
   ]
  },
  {
   "cell_type": "code",
   "execution_count": 65,
   "id": "bbfbe03e",
   "metadata": {},
   "outputs": [
    {
     "data": {
      "text/plain": [
       "862.0       1\n",
       "74458.0     1\n",
       "296206.0    1\n",
       "107308.0    1\n",
       "16247.0     1\n",
       "           ..\n",
       "44399.0     1\n",
       "10138.0     1\n",
       "32084.0     1\n",
       "42191.0     1\n",
       "461257.0    1\n",
       "Name: id, Length: 45434, dtype: int64"
      ]
     },
     "execution_count": 65,
     "metadata": {},
     "output_type": "execute_result"
    }
   ],
   "source": [
    "df.id.value_counts(dropna = False)"
   ]
  },
  {
   "cell_type": "markdown",
   "id": "11a3ff70",
   "metadata": {},
   "source": [
    "### Handling Missing Values & Removing Observations\n"
   ]
  },
  {
   "cell_type": "markdown",
   "id": "5529a34e",
   "metadata": {},
   "source": [
    "Let's check the number of the missing values for every coloumn in the data set."
   ]
  },
  {
   "cell_type": "code",
   "execution_count": 66,
   "id": "7cdd81d3",
   "metadata": {},
   "outputs": [
    {
     "data": {
      "text/plain": [
       "belongs_to_collection    40946\n",
       "budget_musd              36554\n",
       "genres                    2442\n",
       "id                           1\n",
       "original_language           11\n",
       "overview                  1104\n",
       "popularity                   4\n",
       "poster_path                386\n",
       "production_companies     11872\n",
       "production_countries      6283\n",
       "release_date                88\n",
       "revenue_musd             38036\n",
       "runtime                   1819\n",
       "spoken_languages          3954\n",
       "status                      85\n",
       "tagline                  25037\n",
       "title                        4\n",
       "vote_average              2900\n",
       "vote_count                   4\n",
       "dtype: int64"
      ]
     },
     "execution_count": 66,
     "metadata": {},
     "output_type": "execute_result"
    }
   ],
   "source": [
    "df.isna().sum()"
   ]
  },
  {
   "cell_type": "code",
   "execution_count": 68,
   "id": "e5af07d0",
   "metadata": {},
   "outputs": [],
   "source": [
    "df.dropna(subset = [\"id\", \"title\"], inplace = True)"
   ]
  },
  {
   "cell_type": "markdown",
   "id": "7c1a5437",
   "metadata": {},
   "source": [
    "Let's check the number of non missing values."
   ]
  },
  {
   "cell_type": "code",
   "execution_count": 69,
   "id": "c45f1024",
   "metadata": {},
   "outputs": [
    {
     "data": {
      "text/plain": [
       "15    12522\n",
       "16    11454\n",
       "14     5424\n",
       "17     4265\n",
       "18     3859\n",
       "13     3040\n",
       "12     1891\n",
       "19     1132\n",
       "11     1020\n",
       "10      511\n",
       "9       184\n",
       "8       104\n",
       "7        20\n",
       "6         4\n",
       "dtype: int64"
      ]
     },
     "execution_count": 69,
     "metadata": {},
     "output_type": "execute_result"
    }
   ],
   "source": [
    "df.notna().sum(axis = 1).value_counts().sort_values(ascending = False)"
   ]
  },
  {
   "cell_type": "markdown",
   "id": "8dd0ae60",
   "metadata": {},
   "source": [
    "We can determine a threshold for the non missing values and then we can drop the values with respect to this threshold. Movies that includes more 10 non missing values seems okay."
   ]
  },
  {
   "cell_type": "code",
   "execution_count": 70,
   "id": "3e76f58a",
   "metadata": {},
   "outputs": [],
   "source": [
    "df.dropna(thresh = 10, inplace = True)"
   ]
  },
  {
   "cell_type": "markdown",
   "id": "5bd7b5ce",
   "metadata": {},
   "source": [
    "### Final Steps"
   ]
  },
  {
   "cell_type": "markdown",
   "id": "07374c78",
   "metadata": {},
   "source": [
    "Let's check the status column. We are interested in only movies which are released."
   ]
  },
  {
   "cell_type": "code",
   "execution_count": 72,
   "id": "1f78963d",
   "metadata": {},
   "outputs": [
    {
     "data": {
      "text/plain": [
       "Released           44691\n",
       "Rumored              226\n",
       "Post Production       98\n",
       "In Production         20\n",
       "Planned               15\n",
       "Canceled               2\n",
       "Name: status, dtype: int64"
      ]
     },
     "execution_count": 72,
     "metadata": {},
     "output_type": "execute_result"
    }
   ],
   "source": [
    "df.status.value_counts()"
   ]
  },
  {
   "cell_type": "code",
   "execution_count": 73,
   "id": "8505fdd5",
   "metadata": {},
   "outputs": [],
   "source": [
    "df = df.loc[df.status == \"Released\"].copy()"
   ]
  },
  {
   "cell_type": "code",
   "execution_count": 74,
   "id": "4857fed7",
   "metadata": {},
   "outputs": [],
   "source": [
    "df.drop(columns = [\"status\"], inplace = True)"
   ]
  },
  {
   "cell_type": "markdown",
   "id": "6b679bf8",
   "metadata": {},
   "source": [
    "Let's rearrange all the columns by importance."
   ]
  },
  {
   "cell_type": "code",
   "execution_count": 75,
   "id": "c64f9160",
   "metadata": {},
   "outputs": [],
   "source": [
    "col = [\"id\", \"title\", \"tagline\", \"release_date\", \"genres\", \"belongs_to_collection\", \n",
    "       \"original_language\", \"budget_musd\", \"revenue_musd\", \"production_companies\",\n",
    "       \"production_countries\", \"vote_count\", \"vote_average\", \"popularity\", \"runtime\",\n",
    "       \"overview\", \"spoken_languages\", \"poster_path\"]"
   ]
  },
  {
   "cell_type": "code",
   "execution_count": 76,
   "id": "fca4b6c3",
   "metadata": {},
   "outputs": [],
   "source": [
    "df = df.loc[:, col]"
   ]
  },
  {
   "cell_type": "markdown",
   "id": "007ba136",
   "metadata": {},
   "source": [
    "We can now drop the indexes."
   ]
  },
  {
   "cell_type": "code",
   "execution_count": 77,
   "id": "2a5dd7ce",
   "metadata": {},
   "outputs": [],
   "source": [
    "df.reset_index(drop = True, inplace =True)"
   ]
  },
  {
   "cell_type": "markdown",
   "id": "59046bf6",
   "metadata": {},
   "source": [
    "Finally, let's add the html path for the poster."
   ]
  },
  {
   "cell_type": "code",
   "execution_count": 78,
   "id": "fdf9657d",
   "metadata": {},
   "outputs": [
    {
     "data": {
      "text/plain": [
       "'/rhIRbceoE9lR4veEXuwCC2wARtG.jpg'"
      ]
     },
     "execution_count": 78,
     "metadata": {},
     "output_type": "execute_result"
    }
   ],
   "source": [
    "df.poster_path[0]"
   ]
  },
  {
   "cell_type": "code",
   "execution_count": 79,
   "id": "d6b6d6c8",
   "metadata": {},
   "outputs": [],
   "source": [
    "base_poster_url = 'http://image.tmdb.org/t/p/w185/'\n",
    "df.poster_path = \"<img src='\" + base_poster_url + df.poster_path + \"' style='height:100px;'>\""
   ]
  },
  {
   "cell_type": "markdown",
   "id": "99e852b6",
   "metadata": {},
   "source": [
    "Let's import the almost clean data as a csv file."
   ]
  },
  {
   "cell_type": "code",
   "execution_count": 80,
   "id": "38ce57a4",
   "metadata": {},
   "outputs": [],
   "source": [
    "df.to_csv(\"movies_clean.csv\", index = False)"
   ]
  },
  {
   "cell_type": "code",
   "execution_count": null,
   "id": "b8ca6a17",
   "metadata": {},
   "outputs": [],
   "source": []
  }
 ],
 "metadata": {
  "kernelspec": {
   "display_name": "Python 3 (ipykernel)",
   "language": "python",
   "name": "python3"
  },
  "language_info": {
   "codemirror_mode": {
    "name": "ipython",
    "version": 3
   },
   "file_extension": ".py",
   "mimetype": "text/x-python",
   "name": "python",
   "nbconvert_exporter": "python",
   "pygments_lexer": "ipython3",
   "version": "3.9.13"
  }
 },
 "nbformat": 4,
 "nbformat_minor": 5
}
